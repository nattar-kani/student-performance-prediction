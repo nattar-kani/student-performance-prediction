{
 "cells": [
  {
   "cell_type": "code",
   "execution_count": 1,
   "id": "00b23a1e",
   "metadata": {},
   "outputs": [
    {
     "data": {
      "text/plain": [
       "2"
      ]
     },
     "execution_count": 1,
     "metadata": {},
     "output_type": "execute_result"
    }
   ],
   "source": [
    "1+1"
   ]
  },
  {
   "cell_type": "code",
   "execution_count": 2,
   "id": "43865265",
   "metadata": {},
   "outputs": [
    {
     "name": "stdout",
     "output_type": "stream",
     "text": [
      "my name is\n"
     ]
    }
   ],
   "source": [
    "print(\"my name is\")"
   ]
  },
  {
   "cell_type": "code",
   "execution_count": 1,
   "id": "facb3965",
   "metadata": {},
   "outputs": [],
   "source": [
    "import math"
   ]
  },
  {
   "cell_type": "code",
   "execution_count": 2,
   "id": "09298a5b",
   "metadata": {},
   "outputs": [
    {
     "data": {
      "text/plain": [
       "3"
      ]
     },
     "execution_count": 2,
     "metadata": {},
     "output_type": "execute_result"
    }
   ],
   "source": [
    "math.floor(math.pi)"
   ]
  },
  {
   "cell_type": "code",
   "execution_count": 3,
   "id": "81fa97b1",
   "metadata": {},
   "outputs": [
    {
     "data": {
      "text/plain": [
       "list"
      ]
     },
     "execution_count": 3,
     "metadata": {},
     "output_type": "execute_result"
    }
   ],
   "source": [
    "lst = [1,2,3]\n",
    "type(lst)"
   ]
  },
  {
   "cell_type": "code",
   "execution_count": 4,
   "id": "e483ddd8",
   "metadata": {},
   "outputs": [
    {
     "data": {
      "text/plain": [
       "1618688422976"
      ]
     },
     "execution_count": 4,
     "metadata": {},
     "output_type": "execute_result"
    }
   ],
   "source": [
    "id(lst)"
   ]
  },
  {
   "cell_type": "code",
   "execution_count": 5,
   "id": "02239267",
   "metadata": {},
   "outputs": [
    {
     "data": {
      "text/plain": [
       "tuple"
      ]
     },
     "execution_count": 5,
     "metadata": {},
     "output_type": "execute_result"
    }
   ],
   "source": [
    "t = (1,2,3)\n",
    "type(t)"
   ]
  },
  {
   "cell_type": "code",
   "execution_count": 6,
   "id": "f30b259c",
   "metadata": {},
   "outputs": [
    {
     "data": {
      "text/plain": [
       "set"
      ]
     },
     "execution_count": 6,
     "metadata": {},
     "output_type": "execute_result"
    }
   ],
   "source": [
    "set_ = {1,2,3}\n",
    "type(set_)"
   ]
  },
  {
   "cell_type": "code",
   "execution_count": 7,
   "id": "c516a6e4",
   "metadata": {},
   "outputs": [
    {
     "name": "stdout",
     "output_type": "stream",
     "text": [
      "original: 69\n",
      "new value:False\n"
     ]
    }
   ],
   "source": [
    "\n",
    "bool_ = 69\n",
    "print(f\"original: {bool_}\")\n",
    "\n",
    "bool_ = not bool_\n",
    "print(f\"new value:{bool_}\")"
   ]
  },
  {
   "cell_type": "code",
   "execution_count": 8,
   "id": "5cc46069",
   "metadata": {},
   "outputs": [
    {
     "name": "stdout",
     "output_type": "stream",
     "text": [
      ":) \n",
      ":) :) \n",
      ":) :) :) \n",
      ":) :) :) :) \n",
      ":) :) :) :) :) \n",
      ":) :) :) :) :) :) \n",
      ":) :) :) :) :) :) :) \n",
      ":) :) :) :) :) :) :) :) \n",
      ":) :) :) :) :) :) :) :) :) \n",
      ":) :) :) :) :) :) :) :) :) :) \n"
     ]
    }
   ],
   "source": [
    "for i in range(1,11):\n",
    "    print(\":) \"*i)"
   ]
  },
  {
   "cell_type": "code",
   "execution_count": 15,
   "id": "bd95495f",
   "metadata": {},
   "outputs": [
    {
     "name": "stdout",
     "output_type": "stream",
     "text": [
      "1 \n",
      "1 2 \n",
      "1 2 3 \n",
      "1 2 3 4 \n",
      "1 2 3 4 5 \n",
      "1 2 3 4 5 6 \n",
      "1 2 3 4 5 6 7 \n",
      "1 2 3 4 5 6 7 8 \n",
      "1 2 3 4 5 6 7 8 9 \n",
      "1 2 3 4 5 6 7 8 9 10 \n"
     ]
    }
   ],
   "source": [
    "for i in range(1,11):\n",
    "    for j in range(1,i+1):\n",
    "        print(j, end=\" \")\n",
    "\n",
    "    print()  "
   ]
  },
  {
   "cell_type": "code",
   "execution_count": 27,
   "id": "93b417e7",
   "metadata": {},
   "outputs": [
    {
     "name": "stdout",
     "output_type": "stream",
     "text": [
      "                *   \n",
      "            *   *   \n",
      "        *   *   *   \n",
      "    *   *   *   *   \n",
      "*   *   *   *   *   \n"
     ]
    }
   ],
   "source": [
    "n = 5\n",
    "for i in range(1,n+1):\n",
    "    print(\"    \" * (n-i) + \"*   \"*i)"
   ]
  },
  {
   "cell_type": "code",
   "execution_count": 29,
   "id": "d8d24580",
   "metadata": {},
   "outputs": [
    {
     "name": "stdout",
     "output_type": "stream",
     "text": [
      "1\n",
      "2\n",
      "3\n",
      "4\n"
     ]
    }
   ],
   "source": [
    "for i in range(1,5):\n",
    "    print(i)"
   ]
  },
  {
   "cell_type": "code",
   "execution_count": 31,
   "id": "df92a4d7",
   "metadata": {},
   "outputs": [
    {
     "name": "stdout",
     "output_type": "stream",
     "text": [
      "15\n"
     ]
    }
   ],
   "source": [
    "n = 5\n",
    "total = 0\n",
    "i = 1\n",
    "while i<=n:\n",
    "    total = total + i\n",
    "    i = i + 1\n",
    "print(total)\n"
   ]
  },
  {
   "cell_type": "code",
   "execution_count": 32,
   "id": "61bdb302",
   "metadata": {},
   "outputs": [
    {
     "data": {
      "text/plain": [
       "[(0, 'n'), (1, 'a'), (2, 't')]"
      ]
     },
     "execution_count": 32,
     "metadata": {},
     "output_type": "execute_result"
    }
   ],
   "source": [
    "s = \"nat\"\n",
    "\n",
    "list(enumerate(s))"
   ]
  },
  {
   "cell_type": "code",
   "execution_count": 37,
   "id": "8cc3f12b",
   "metadata": {},
   "outputs": [
    {
     "name": "stdout",
     "output_type": "stream",
     "text": [
      "0 n\n",
      "1 a\n",
      "T\n",
      "2 t\n"
     ]
    }
   ],
   "source": [
    "for index,data in enumerate(s):\n",
    "    if index == 2:\n",
    "        print(s[2].upper())\n",
    "        \n",
    "    print(index,data)"
   ]
  },
  {
   "cell_type": "code",
   "execution_count": 39,
   "id": "d45f99ab",
   "metadata": {},
   "outputs": [
    {
     "data": {
      "text/plain": [
       "[1, 2, 3, 4]"
      ]
     },
     "execution_count": 39,
     "metadata": {},
     "output_type": "execute_result"
    }
   ],
   "source": [
    "l = [1,2,3]\n",
    "l.append(4)\n",
    "l"
   ]
  },
  {
   "cell_type": "code",
   "execution_count": 41,
   "id": "34babaf3",
   "metadata": {},
   "outputs": [
    {
     "data": {
      "text/plain": [
       "[1, 2, 3, 4, 'hi']"
      ]
     },
     "execution_count": 41,
     "metadata": {},
     "output_type": "execute_result"
    }
   ],
   "source": [
    "l.append(\"hi\")\n",
    "l"
   ]
  },
  {
   "cell_type": "code",
   "execution_count": 42,
   "id": "87258884",
   "metadata": {},
   "outputs": [],
   "source": [
    "l.extend(\"hello\")"
   ]
  },
  {
   "cell_type": "code",
   "execution_count": 43,
   "id": "c1fb522d",
   "metadata": {},
   "outputs": [
    {
     "data": {
      "text/plain": [
       "[1, 2, 3, 4, 'hi', 'h', 'e', 'l', 'l', 'o']"
      ]
     },
     "execution_count": 43,
     "metadata": {},
     "output_type": "execute_result"
    }
   ],
   "source": [
    "l"
   ]
  },
  {
   "cell_type": "code",
   "execution_count": 44,
   "id": "de2fb0c9",
   "metadata": {},
   "outputs": [],
   "source": [
    "l.insert(1,3)"
   ]
  },
  {
   "cell_type": "code",
   "execution_count": 45,
   "id": "0b33c7b7",
   "metadata": {},
   "outputs": [
    {
     "data": {
      "text/plain": [
       "[1, 3, 2, 3, 4, 'hi', 'h', 'e', 'l', 'l', 'o']"
      ]
     },
     "execution_count": 45,
     "metadata": {},
     "output_type": "execute_result"
    }
   ],
   "source": [
    "l"
   ]
  },
  {
   "cell_type": "code",
   "execution_count": 46,
   "id": "a7c12a3a",
   "metadata": {},
   "outputs": [
    {
     "data": {
      "text/plain": [
       "[1, 3, 2, 3, 4, 'hi', 'h', 'e', 'l', 'l']"
      ]
     },
     "execution_count": 46,
     "metadata": {},
     "output_type": "execute_result"
    }
   ],
   "source": [
    "l.pop()\n",
    "l"
   ]
  },
  {
   "cell_type": "code",
   "execution_count": 47,
   "id": "b255476e",
   "metadata": {},
   "outputs": [
    {
     "data": {
      "text/plain": [
       "3"
      ]
     },
     "execution_count": 47,
     "metadata": {},
     "output_type": "execute_result"
    }
   ],
   "source": [
    "l.pop(1)"
   ]
  },
  {
   "cell_type": "code",
   "execution_count": 48,
   "id": "b4a36790",
   "metadata": {},
   "outputs": [
    {
     "data": {
      "text/plain": [
       "[1, 2, 3, 4, 'hi', 'h', 'e', 'l', 'l']"
      ]
     },
     "execution_count": 48,
     "metadata": {},
     "output_type": "execute_result"
    }
   ],
   "source": [
    "l"
   ]
  },
  {
   "cell_type": "code",
   "execution_count": 49,
   "id": "4e85e25b",
   "metadata": {},
   "outputs": [
    {
     "data": {
      "text/plain": [
       "[1, 2, 3, 4, 'hi', 'h', 'e', 'l', 'l']"
      ]
     },
     "execution_count": 49,
     "metadata": {},
     "output_type": "execute_result"
    }
   ],
   "source": [
    "l2 = l.copy()\n",
    "l2"
   ]
  },
  {
   "cell_type": "code",
   "execution_count": 50,
   "id": "de17092e",
   "metadata": {},
   "outputs": [
    {
     "data": {
      "text/plain": [
       "[1, 2, 3, 4, 'hi', 'h', 'e', 'l', 'l']"
      ]
     },
     "execution_count": 50,
     "metadata": {},
     "output_type": "execute_result"
    }
   ],
   "source": [
    "l"
   ]
  },
  {
   "cell_type": "code",
   "execution_count": 52,
   "id": "f52bc331",
   "metadata": {},
   "outputs": [
    {
     "data": {
      "text/plain": [
       "'h'"
      ]
     },
     "execution_count": 52,
     "metadata": {},
     "output_type": "execute_result"
    }
   ],
   "source": [
    "l.pop(5)"
   ]
  },
  {
   "cell_type": "code",
   "execution_count": 53,
   "id": "0d9ceb11",
   "metadata": {},
   "outputs": [
    {
     "data": {
      "text/plain": [
       "[1, 2, 3, 4, 'hi', 'e', 'l', 'l']"
      ]
     },
     "execution_count": 53,
     "metadata": {},
     "output_type": "execute_result"
    }
   ],
   "source": [
    "l"
   ]
  },
  {
   "cell_type": "code",
   "execution_count": 54,
   "id": "887a31a7",
   "metadata": {},
   "outputs": [
    {
     "data": {
      "text/plain": [
       "[1, 2, 3, 4, 'hi', 'h', 'e', 'l', 'l']"
      ]
     },
     "execution_count": 54,
     "metadata": {},
     "output_type": "execute_result"
    }
   ],
   "source": [
    "l2"
   ]
  },
  {
   "cell_type": "code",
   "execution_count": 55,
   "id": "610a8fc8",
   "metadata": {},
   "outputs": [],
   "source": [
    "l3 = l"
   ]
  },
  {
   "cell_type": "code",
   "execution_count": 56,
   "id": "31854876",
   "metadata": {},
   "outputs": [
    {
     "data": {
      "text/plain": [
       "[1, 2, 3, 4, 'hi', 'e', 'l', 'l']"
      ]
     },
     "execution_count": 56,
     "metadata": {},
     "output_type": "execute_result"
    }
   ],
   "source": [
    "l3"
   ]
  },
  {
   "cell_type": "code",
   "execution_count": 57,
   "id": "96ae4a9f",
   "metadata": {},
   "outputs": [
    {
     "data": {
      "text/plain": [
       "'l'"
      ]
     },
     "execution_count": 57,
     "metadata": {},
     "output_type": "execute_result"
    }
   ],
   "source": [
    "l.pop(6)"
   ]
  },
  {
   "cell_type": "code",
   "execution_count": 58,
   "id": "b975c898",
   "metadata": {},
   "outputs": [
    {
     "data": {
      "text/plain": [
       "[1, 2, 3, 4, 'hi', 'e', 'l']"
      ]
     },
     "execution_count": 58,
     "metadata": {},
     "output_type": "execute_result"
    }
   ],
   "source": [
    "l"
   ]
  },
  {
   "cell_type": "code",
   "execution_count": 59,
   "id": "7c97a839",
   "metadata": {},
   "outputs": [
    {
     "data": {
      "text/plain": [
       "[1, 2, 3, 4, 'hi', 'e', 'l']"
      ]
     },
     "execution_count": 59,
     "metadata": {},
     "output_type": "execute_result"
    }
   ],
   "source": [
    "l3"
   ]
  },
  {
   "cell_type": "code",
   "execution_count": 60,
   "id": "7cb9891a",
   "metadata": {},
   "outputs": [],
   "source": [
    "l.clear()"
   ]
  },
  {
   "cell_type": "code",
   "execution_count": 61,
   "id": "ca2d2286",
   "metadata": {},
   "outputs": [
    {
     "data": {
      "text/plain": [
       "[]"
      ]
     },
     "execution_count": 61,
     "metadata": {},
     "output_type": "execute_result"
    }
   ],
   "source": [
    "l"
   ]
  },
  {
   "cell_type": "code",
   "execution_count": 62,
   "id": "27519ba2",
   "metadata": {},
   "outputs": [
    {
     "data": {
      "text/plain": [
       "list"
      ]
     },
     "execution_count": 62,
     "metadata": {},
     "output_type": "execute_result"
    }
   ],
   "source": [
    "type(l)"
   ]
  },
  {
   "cell_type": "code",
   "execution_count": 63,
   "id": "e6e80cd8",
   "metadata": {},
   "outputs": [
    {
     "data": {
      "text/plain": [
       "set"
      ]
     },
     "execution_count": 63,
     "metadata": {},
     "output_type": "execute_result"
    }
   ],
   "source": [
    "type(set())"
   ]
  },
  {
   "cell_type": "code",
   "execution_count": 64,
   "id": "d6545f66",
   "metadata": {},
   "outputs": [],
   "source": [
    "s = set()"
   ]
  },
  {
   "cell_type": "code",
   "execution_count": 66,
   "id": "efeba3e4",
   "metadata": {},
   "outputs": [
    {
     "data": {
      "text/plain": [
       "set"
      ]
     },
     "execution_count": 66,
     "metadata": {},
     "output_type": "execute_result"
    }
   ],
   "source": [
    "type(s)"
   ]
  },
  {
   "cell_type": "code",
   "execution_count": 67,
   "id": "9f34a3a0",
   "metadata": {},
   "outputs": [
    {
     "data": {
      "text/plain": [
       "dict"
      ]
     },
     "execution_count": 67,
     "metadata": {},
     "output_type": "execute_result"
    }
   ],
   "source": [
    "s = {}\n",
    "type (s)"
   ]
  },
  {
   "cell_type": "code",
   "execution_count": 69,
   "id": "2d38c092",
   "metadata": {},
   "outputs": [],
   "source": [
    "for i in range(1,20):\n",
    "    if i%2 == 0:\n",
    "        l.append(i)"
   ]
  },
  {
   "cell_type": "code",
   "execution_count": 70,
   "id": "92a2e587",
   "metadata": {},
   "outputs": [
    {
     "data": {
      "text/plain": [
       "[2, 4, 6, 8, 10, 12, 14, 16, 18, 2, 4, 6, 8, 10, 12, 14, 16, 18]"
      ]
     },
     "execution_count": 70,
     "metadata": {},
     "output_type": "execute_result"
    }
   ],
   "source": [
    "l"
   ]
  },
  {
   "cell_type": "code",
   "execution_count": 71,
   "id": "07304a6c",
   "metadata": {},
   "outputs": [
    {
     "data": {
      "text/plain": [
       "[2, 4, 6, 8, 10, 12, 14, 16, 18]"
      ]
     },
     "execution_count": 71,
     "metadata": {},
     "output_type": "execute_result"
    }
   ],
   "source": [
    "[i for i in range(1,20) if i % 2 == 0]"
   ]
  },
  {
   "cell_type": "code",
   "execution_count": 72,
   "id": "fc71e5ca",
   "metadata": {},
   "outputs": [
    {
     "data": {
      "text/plain": [
       "<generator object <genexpr> at 0x00000178E241FD00>"
      ]
     },
     "execution_count": 72,
     "metadata": {},
     "output_type": "execute_result"
    }
   ],
   "source": [
    "(i for i in range(5))"
   ]
  },
  {
   "cell_type": "code",
   "execution_count": 73,
   "id": "89c23ea4",
   "metadata": {},
   "outputs": [
    {
     "data": {
      "text/plain": [
       "19"
      ]
     },
     "execution_count": 73,
     "metadata": {},
     "output_type": "execute_result"
    }
   ],
   "source": [
    "i"
   ]
  },
  {
   "cell_type": "code",
   "execution_count": 74,
   "id": "23ed80a1",
   "metadata": {},
   "outputs": [
    {
     "data": {
      "text/plain": [
       "{0: 0, 1: 1, 2: 4, 3: 9, 4: 16}"
      ]
     },
     "execution_count": 74,
     "metadata": {},
     "output_type": "execute_result"
    }
   ],
   "source": [
    "{i:i**2 for i in range(5)}"
   ]
  },
  {
   "cell_type": "code",
   "execution_count": null,
   "id": "f5ddf70f",
   "metadata": {},
   "outputs": [],
   "source": [
    "def test():\n",
    "    \"\"\"\n",
    "    this is a test function to print hello\n",
    "    \"\"\"\n",
    "    return \"hello\""
   ]
  },
  {
   "cell_type": "code",
   "execution_count": 80,
   "id": "b2218d87",
   "metadata": {},
   "outputs": [
    {
     "data": {
      "text/plain": [
       "str"
      ]
     },
     "execution_count": 80,
     "metadata": {},
     "output_type": "execute_result"
    }
   ],
   "source": [
    "a = test()\n",
    "a + \"there\"\n",
    "type(a)"
   ]
  },
  {
   "cell_type": "code",
   "execution_count": 81,
   "id": "7ad787dc",
   "metadata": {},
   "outputs": [],
   "source": [
    "def add(*n):\n",
    "    sum = 0\n",
    "    for i in n:\n",
    "        sum = sum + i\n",
    "    return sum"
   ]
  },
  {
   "cell_type": "code",
   "execution_count": 82,
   "id": "4080e47d",
   "metadata": {},
   "outputs": [
    {
     "data": {
      "text/plain": [
       "6"
      ]
     },
     "execution_count": 82,
     "metadata": {},
     "output_type": "execute_result"
    }
   ],
   "source": [
    "add(1,2,3)"
   ]
  },
  {
   "cell_type": "code",
   "execution_count": 84,
   "id": "6c95a3a1",
   "metadata": {},
   "outputs": [
    {
     "data": {
      "text/plain": [
       "[1, 2, 1, 2]"
      ]
     },
     "execution_count": 84,
     "metadata": {},
     "output_type": "execute_result"
    }
   ],
   "source": [
    "[1,2]*2"
   ]
  },
  {
   "cell_type": "code",
   "execution_count": null,
   "id": "b4eae3f7",
   "metadata": {},
   "outputs": [
    {
     "ename": "SyntaxError",
     "evalue": "named arguments must follow bare * (1716304083.py, line 1)",
     "output_type": "error",
     "traceback": [
      "\u001b[1;36m  Cell \u001b[1;32mIn[88], line 1\u001b[1;36m\u001b[0m\n\u001b[1;33m    def great(x,*):\u001b[0m\n\u001b[1;37m                ^\u001b[0m\n\u001b[1;31mSyntaxError\u001b[0m\u001b[1;31m:\u001b[0m named arguments must follow bare *\n"
     ]
    }
   ],
   "source": [
    "def great(x,*,y):\n",
    "    print(f\"{x}, you are great. \")"
   ]
  },
  {
   "cell_type": "code",
   "execution_count": 86,
   "id": "1208c3df",
   "metadata": {},
   "outputs": [
    {
     "name": "stdout",
     "output_type": "stream",
     "text": [
      "rose, you are great\n"
     ]
    }
   ],
   "source": [
    "great(\"rose\")"
   ]
  },
  {
   "cell_type": "code",
   "execution_count": 92,
   "id": "4b6da2cf",
   "metadata": {},
   "outputs": [],
   "source": [
    "x = lambda a,b: a+b"
   ]
  },
  {
   "cell_type": "code",
   "execution_count": 93,
   "id": "b4434a83",
   "metadata": {},
   "outputs": [
    {
     "data": {
      "text/plain": [
       "3"
      ]
     },
     "execution_count": 93,
     "metadata": {},
     "output_type": "execute_result"
    }
   ],
   "source": [
    "x(1,2)"
   ]
  },
  {
   "cell_type": "code",
   "execution_count": 94,
   "id": "579415b4",
   "metadata": {},
   "outputs": [
    {
     "data": {
      "text/plain": [
       "'odd'"
      ]
     },
     "execution_count": 94,
     "metadata": {},
     "output_type": "execute_result"
    }
   ],
   "source": [
    "fun = lambda a: \"even\" if a%2==0 else \"odd\"\n",
    "fun(5)"
   ]
  },
  {
   "cell_type": "code",
   "execution_count": 95,
   "id": "9ef4ed40",
   "metadata": {},
   "outputs": [],
   "source": [
    "def outer():\n",
    "    x = 10\n",
    "    def inner():\n",
    "        print(x)\n",
    "    return inner"
   ]
  },
  {
   "cell_type": "code",
   "execution_count": 96,
   "id": "e294ee70",
   "metadata": {},
   "outputs": [],
   "source": [
    "closure = outer()"
   ]
  },
  {
   "cell_type": "code",
   "execution_count": 97,
   "id": "3aca050d",
   "metadata": {},
   "outputs": [
    {
     "data": {
      "text/plain": [
       "<function __main__.outer.<locals>.inner()>"
      ]
     },
     "execution_count": 97,
     "metadata": {},
     "output_type": "execute_result"
    }
   ],
   "source": [
    "closure"
   ]
  },
  {
   "cell_type": "code",
   "execution_count": 98,
   "id": "9aa322ce",
   "metadata": {},
   "outputs": [
    {
     "name": "stdout",
     "output_type": "stream",
     "text": [
      "10\n"
     ]
    }
   ],
   "source": [
    "closure()"
   ]
  },
  {
   "cell_type": "code",
   "execution_count": 114,
   "id": "04e7b5f4",
   "metadata": {},
   "outputs": [],
   "source": [
    "import time\n",
    "\n",
    "def deco(x):\n",
    "    def wrapper():\n",
    "        print(time.time())\n",
    "        x()\n",
    "        print(time.time())\n",
    "    return wrapper"
   ]
  },
  {
   "cell_type": "code",
   "execution_count": 111,
   "id": "8ce81300",
   "metadata": {},
   "outputs": [
    {
     "data": {
      "text/plain": [
       "<function __main__.deco.<locals>.wrapper()>"
      ]
     },
     "execution_count": 111,
     "metadata": {},
     "output_type": "execute_result"
    }
   ],
   "source": [
    "deco(\"hello\")"
   ]
  },
  {
   "cell_type": "code",
   "execution_count": 115,
   "id": "dc86c8f0",
   "metadata": {},
   "outputs": [],
   "source": [
    "@deco\n",
    "def greet():\n",
    "    print(\"welcome\")"
   ]
  },
  {
   "cell_type": "code",
   "execution_count": 116,
   "id": "91c9abd7",
   "metadata": {},
   "outputs": [
    {
     "name": "stdout",
     "output_type": "stream",
     "text": [
      "1753634456.6555712\n",
      "welcome\n",
      "1753634456.6575904\n"
     ]
    }
   ],
   "source": [
    "greet()"
   ]
  },
  {
   "cell_type": "code",
   "execution_count": 117,
   "id": "0e1cfada",
   "metadata": {},
   "outputs": [
    {
     "data": {
      "text/plain": [
       "0.30000000000000004"
      ]
     },
     "execution_count": 117,
     "metadata": {},
     "output_type": "execute_result"
    }
   ],
   "source": [
    ".1 + .2"
   ]
  },
  {
   "cell_type": "code",
   "execution_count": 118,
   "id": "351a70d1",
   "metadata": {},
   "outputs": [],
   "source": [
    "import math"
   ]
  },
  {
   "cell_type": "code",
   "execution_count": 122,
   "id": "514a88b2",
   "metadata": {},
   "outputs": [
    {
     "data": {
      "text/plain": [
       "0.7853981633974483"
      ]
     },
     "execution_count": 122,
     "metadata": {},
     "output_type": "execute_result"
    }
   ],
   "source": [
    "math.radians(45)"
   ]
  },
  {
   "cell_type": "code",
   "execution_count": 1,
   "id": "16d47f4c",
   "metadata": {},
   "outputs": [
    {
     "ename": "ModuleNotFoundError",
     "evalue": "No module named 'mathematics'",
     "output_type": "error",
     "traceback": [
      "\u001b[1;31m---------------------------------------------------------------------------\u001b[0m",
      "\u001b[1;31mModuleNotFoundError\u001b[0m                       Traceback (most recent call last)",
      "Cell \u001b[1;32mIn[1], line 1\u001b[0m\n\u001b[1;32m----> 1\u001b[0m \u001b[38;5;28;01mfrom\u001b[39;00m \u001b[38;5;21;01mmathematics\u001b[39;00m \u001b[38;5;28;01mimport\u001b[39;00m basic_math\n",
      "\u001b[1;31mModuleNotFoundError\u001b[0m: No module named 'mathematics'"
     ]
    }
   ],
   "source": [
    "from mathematics import basic_math"
   ]
  },
  {
   "cell_type": "code",
   "execution_count": 16,
   "id": "4993c037",
   "metadata": {},
   "outputs": [],
   "source": [
    "class course:\n",
    "    def __init__(self, name, age):\n",
    "        self.name = name\n",
    "        self.age = age\n",
    "\n",
    "    def __str__(self):\n",
    "        return f\"hello {self.name}, you are {self.age} years old\"\n",
    "    \n",
    "    def __eq__(self, value):\n",
    "        return self.name == value.name"
   ]
  },
  {
   "cell_type": "code",
   "execution_count": 24,
   "id": "7f7c220e",
   "metadata": {},
   "outputs": [],
   "source": [
    "c = course(\"nattar\", 15)\n",
    "c1 = course(\"nattar\", 10)"
   ]
  },
  {
   "cell_type": "code",
   "execution_count": 25,
   "id": "b62ce094",
   "metadata": {},
   "outputs": [
    {
     "name": "stdout",
     "output_type": "stream",
     "text": [
      "hello nattar, you are 15 years old\n"
     ]
    }
   ],
   "source": [
    "print(c)"
   ]
  },
  {
   "cell_type": "code",
   "execution_count": 26,
   "id": "4ac3f7f6",
   "metadata": {},
   "outputs": [
    {
     "data": {
      "text/plain": [
       "True"
      ]
     },
     "execution_count": 26,
     "metadata": {},
     "output_type": "execute_result"
    }
   ],
   "source": [
    "c == c1"
   ]
  },
  {
   "cell_type": "code",
   "execution_count": null,
   "id": "2ea6573f",
   "metadata": {},
   "outputs": [],
   "source": [
    "class mentor:\n",
    "    def __init__(self, name):\n",
    "        self.name = name\n",
    "    def show(self):\n",
    "        print(f\"mentor {self.name}\")\n",
    "    "
   ]
  },
  {
   "cell_type": "code",
   "execution_count": 30,
   "id": "e74cec63",
   "metadata": {},
   "outputs": [],
   "source": [
    "class mentorChild(mentor):\n",
    "    pass"
   ]
  },
  {
   "cell_type": "code",
   "execution_count": 31,
   "id": "4f419d3c",
   "metadata": {},
   "outputs": [],
   "source": [
    "x = mentorChild(\"nattar\")"
   ]
  },
  {
   "cell_type": "code",
   "execution_count": 32,
   "id": "95b5f351",
   "metadata": {},
   "outputs": [
    {
     "data": {
      "text/plain": [
       "'nattar'"
      ]
     },
     "execution_count": 32,
     "metadata": {},
     "output_type": "execute_result"
    }
   ],
   "source": [
    "x.name"
   ]
  },
  {
   "cell_type": "code",
   "execution_count": 35,
   "id": "62850275",
   "metadata": {},
   "outputs": [
    {
     "data": {
      "text/plain": [
       "[1]"
      ]
     },
     "execution_count": 35,
     "metadata": {},
     "output_type": "execute_result"
    }
   ],
   "source": [
    "[1 if 2==2 else 3]"
   ]
  },
  {
   "cell_type": "code",
   "execution_count": 47,
   "id": "59d35a80",
   "metadata": {},
   "outputs": [],
   "source": [
    "def outer():\n",
    "    x = 10\n",
    "    def inner():\n",
    "        print(x)\n",
    "    return inner"
   ]
  },
  {
   "cell_type": "code",
   "execution_count": 48,
   "id": "858222a1",
   "metadata": {},
   "outputs": [
    {
     "ename": "NameError",
     "evalue": "name 'inner' is not defined",
     "output_type": "error",
     "traceback": [
      "\u001b[1;31m---------------------------------------------------------------------------\u001b[0m",
      "\u001b[1;31mNameError\u001b[0m                                 Traceback (most recent call last)",
      "Cell \u001b[1;32mIn[48], line 1\u001b[0m\n\u001b[1;32m----> 1\u001b[0m x \u001b[38;5;241m=\u001b[39m inner()\n",
      "\u001b[1;31mNameError\u001b[0m: name 'inner' is not defined"
     ]
    }
   ],
   "source": [
    "x = inner()"
   ]
  },
  {
   "cell_type": "code",
   "execution_count": 44,
   "id": "3f864e17",
   "metadata": {},
   "outputs": [
    {
     "ename": "TypeError",
     "evalue": "'tuple' object is not callable",
     "output_type": "error",
     "traceback": [
      "\u001b[1;31m---------------------------------------------------------------------------\u001b[0m",
      "\u001b[1;31mTypeError\u001b[0m                                 Traceback (most recent call last)",
      "Cell \u001b[1;32mIn[44], line 1\u001b[0m\n\u001b[1;32m----> 1\u001b[0m x()\n",
      "\u001b[1;31mTypeError\u001b[0m: 'tuple' object is not callable"
     ]
    }
   ],
   "source": [
    "x()"
   ]
  },
  {
   "cell_type": "code",
   "execution_count": 40,
   "id": "574e0fc7",
   "metadata": {},
   "outputs": [],
   "source": [
    "def outer():\n",
    "    x = 10\n",
    "    def inner():\n",
    "        print(x)\n",
    "    def inner1():\n",
    "        print(x)\n",
    "    return inner, inner1"
   ]
  },
  {
   "cell_type": "code",
   "execution_count": 41,
   "id": "5e40ed72",
   "metadata": {},
   "outputs": [
    {
     "ename": "TypeError",
     "evalue": "'tuple' object is not callable",
     "output_type": "error",
     "traceback": [
      "\u001b[1;31m---------------------------------------------------------------------------\u001b[0m",
      "\u001b[1;31mTypeError\u001b[0m                                 Traceback (most recent call last)",
      "Cell \u001b[1;32mIn[41], line 2\u001b[0m\n\u001b[0;32m      1\u001b[0m x \u001b[38;5;241m=\u001b[39m outer()\n\u001b[1;32m----> 2\u001b[0m x()\n",
      "\u001b[1;31mTypeError\u001b[0m: 'tuple' object is not callable"
     ]
    }
   ],
   "source": [
    "x = outer()\n",
    "x()"
   ]
  },
  {
   "cell_type": "code",
   "execution_count": 42,
   "id": "8c7995f7",
   "metadata": {},
   "outputs": [
    {
     "name": "stdout",
     "output_type": "stream",
     "text": [
      "10\n"
     ]
    }
   ],
   "source": [
    "x[1]()"
   ]
  },
  {
   "cell_type": "code",
   "execution_count": 67,
   "id": "2e9066f9",
   "metadata": {},
   "outputs": [],
   "source": [
    "def counter():\n",
    "    count = 0\n",
    "    def inc():\n",
    "        nonlocal count\n",
    "        count = count + 1\n",
    "        return count\n",
    "    return inc"
   ]
  },
  {
   "cell_type": "code",
   "execution_count": 68,
   "id": "c81eb302",
   "metadata": {},
   "outputs": [],
   "source": [
    "c = counter()"
   ]
  },
  {
   "cell_type": "code",
   "execution_count": 69,
   "id": "8996bba4",
   "metadata": {},
   "outputs": [
    {
     "data": {
      "text/plain": [
       "1"
      ]
     },
     "execution_count": 69,
     "metadata": {},
     "output_type": "execute_result"
    }
   ],
   "source": [
    "c()"
   ]
  },
  {
   "cell_type": "code",
   "execution_count": 70,
   "id": "23b7cf15",
   "metadata": {},
   "outputs": [],
   "source": [
    "def power_of(n): # n denotes the power\n",
    "    def power(x): # x denotes the number itself\n",
    "        return x**n\n",
    "    return power\n"
   ]
  },
  {
   "cell_type": "code",
   "execution_count": 71,
   "id": "efe63fc4",
   "metadata": {},
   "outputs": [],
   "source": [
    "square = power_of(2)\n",
    "cube = power_of(3)"
   ]
  },
  {
   "cell_type": "code",
   "execution_count": 72,
   "id": "5dfc6d53",
   "metadata": {},
   "outputs": [
    {
     "data": {
      "text/plain": [
       "25"
      ]
     },
     "execution_count": 72,
     "metadata": {},
     "output_type": "execute_result"
    }
   ],
   "source": [
    "# now we have already assigned 2 for square, 3 for cube\n",
    "# due to closure function, it remembers those values\n",
    "\n",
    "# so if i want to find the square of a number, i can easily find it\n",
    "square(5)"
   ]
  },
  {
   "cell_type": "code",
   "execution_count": 73,
   "id": "871fc799",
   "metadata": {},
   "outputs": [],
   "source": [
    "def add(a,b):\n",
    "    return a+b"
   ]
  },
  {
   "cell_type": "code",
   "execution_count": 76,
   "id": "1c5622a1",
   "metadata": {},
   "outputs": [
    {
     "data": {
      "text/plain": [
       "5"
      ]
     },
     "execution_count": 76,
     "metadata": {},
     "output_type": "execute_result"
    }
   ],
   "source": [
    "add(2,3)\n",
    "# by default it takes a=2, b=3"
   ]
  },
  {
   "cell_type": "code",
   "execution_count": 77,
   "id": "5ec545fa",
   "metadata": {},
   "outputs": [
    {
     "data": {
      "text/plain": [
       "5"
      ]
     },
     "execution_count": 77,
     "metadata": {},
     "output_type": "execute_result"
    }
   ],
   "source": [
    "add(b=3, a=2)\n",
    "# we can swap them out by mentioning the name explicitly"
   ]
  },
  {
   "cell_type": "code",
   "execution_count": 78,
   "id": "54b17c57",
   "metadata": {},
   "outputs": [],
   "source": [
    "def add(*args):\n",
    "    return args"
   ]
  },
  {
   "cell_type": "code",
   "execution_count": 79,
   "id": "672e43d0",
   "metadata": {},
   "outputs": [
    {
     "data": {
      "text/plain": [
       "()"
      ]
     },
     "execution_count": 79,
     "metadata": {},
     "output_type": "execute_result"
    }
   ],
   "source": [
    "add()"
   ]
  },
  {
   "cell_type": "code",
   "execution_count": 80,
   "id": "fd85f341",
   "metadata": {},
   "outputs": [
    {
     "data": {
      "text/plain": [
       "(1,)"
      ]
     },
     "execution_count": 80,
     "metadata": {},
     "output_type": "execute_result"
    }
   ],
   "source": [
    "add(1)"
   ]
  },
  {
   "cell_type": "code",
   "execution_count": 81,
   "id": "c3a73ea6",
   "metadata": {},
   "outputs": [
    {
     "data": {
      "text/plain": [
       "(33,)"
      ]
     },
     "execution_count": 81,
     "metadata": {},
     "output_type": "execute_result"
    }
   ],
   "source": [
    "add(33)"
   ]
  },
  {
   "cell_type": "code",
   "execution_count": 82,
   "id": "439e8361",
   "metadata": {},
   "outputs": [
    {
     "data": {
      "text/plain": [
       "(1, 2)"
      ]
     },
     "execution_count": 82,
     "metadata": {},
     "output_type": "execute_result"
    }
   ],
   "source": [
    "add(1,2)"
   ]
  },
  {
   "cell_type": "code",
   "execution_count": 83,
   "id": "c0c362e8",
   "metadata": {},
   "outputs": [
    {
     "data": {
      "text/plain": [
       "('hello',)"
      ]
     },
     "execution_count": 83,
     "metadata": {},
     "output_type": "execute_result"
    }
   ],
   "source": [
    "add(\"hello\")"
   ]
  },
  {
   "cell_type": "code",
   "execution_count": 84,
   "id": "23e3ee57",
   "metadata": {},
   "outputs": [
    {
     "data": {
      "text/plain": [
       "(['hi', 'hello'],)"
      ]
     },
     "execution_count": 84,
     "metadata": {},
     "output_type": "execute_result"
    }
   ],
   "source": [
    "add([\"hi\",\"hello\"])"
   ]
  },
  {
   "cell_type": "code",
   "execution_count": 87,
   "id": "e2bb1e08",
   "metadata": {},
   "outputs": [],
   "source": [
    "def add(*args):\n",
    "    sum = 0\n",
    "    for i in args:\n",
    "        sum = sum + i\n",
    "    return sum"
   ]
  },
  {
   "cell_type": "code",
   "execution_count": 88,
   "id": "25b7731f",
   "metadata": {},
   "outputs": [
    {
     "data": {
      "text/plain": [
       "70"
      ]
     },
     "execution_count": 88,
     "metadata": {},
     "output_type": "execute_result"
    }
   ],
   "source": [
    "add(50,20)"
   ]
  },
  {
   "cell_type": "code",
   "execution_count": 89,
   "id": "67ff26d1",
   "metadata": {},
   "outputs": [],
   "source": [
    "def profile(**kwargs):\n",
    "    return kwargs\n"
   ]
  },
  {
   "cell_type": "code",
   "execution_count": 90,
   "id": "f048ad53",
   "metadata": {},
   "outputs": [
    {
     "ename": "TypeError",
     "evalue": "profile() takes 0 positional arguments but 1 was given",
     "output_type": "error",
     "traceback": [
      "\u001b[1;31m---------------------------------------------------------------------------\u001b[0m",
      "\u001b[1;31mTypeError\u001b[0m                                 Traceback (most recent call last)",
      "Cell \u001b[1;32mIn[90], line 1\u001b[0m\n\u001b[1;32m----> 1\u001b[0m profile(\u001b[38;5;241m1\u001b[39m)\n",
      "\u001b[1;31mTypeError\u001b[0m: profile() takes 0 positional arguments but 1 was given"
     ]
    }
   ],
   "source": [
    "profile(1)"
   ]
  },
  {
   "cell_type": "code",
   "execution_count": 91,
   "id": "4bcf06e1",
   "metadata": {},
   "outputs": [
    {
     "data": {
      "text/plain": [
       "{'a': 1}"
      ]
     },
     "execution_count": 91,
     "metadata": {},
     "output_type": "execute_result"
    }
   ],
   "source": [
    "profile(a=1)"
   ]
  },
  {
   "cell_type": "code",
   "execution_count": 93,
   "id": "13674b5a",
   "metadata": {},
   "outputs": [
    {
     "data": {
      "text/plain": [
       "{'name': 'nattar', 'age': 25}"
      ]
     },
     "execution_count": 93,
     "metadata": {},
     "output_type": "execute_result"
    }
   ],
   "source": [
    "profile(name = \"nattar\", age = 25)"
   ]
  },
  {
   "cell_type": "code",
   "execution_count": 94,
   "id": "2b819892",
   "metadata": {},
   "outputs": [],
   "source": [
    "def mix(*args, **kwargs):\n",
    "    return args, kwargs"
   ]
  },
  {
   "cell_type": "code",
   "execution_count": 95,
   "id": "3a0ea622",
   "metadata": {},
   "outputs": [
    {
     "data": {
      "text/plain": [
       "((), {})"
      ]
     },
     "execution_count": 95,
     "metadata": {},
     "output_type": "execute_result"
    }
   ],
   "source": [
    "mix()"
   ]
  },
  {
   "cell_type": "code",
   "execution_count": 96,
   "id": "645a0b84",
   "metadata": {},
   "outputs": [
    {
     "data": {
      "text/plain": [
       "((1, 2), {'name': 'nattar'})"
      ]
     },
     "execution_count": 96,
     "metadata": {},
     "output_type": "execute_result"
    }
   ],
   "source": [
    "mix(1,2,name = \"nattar\")"
   ]
  },
  {
   "cell_type": "code",
   "execution_count": 97,
   "id": "fff5793a",
   "metadata": {},
   "outputs": [],
   "source": [
    "def greet(name,/):\n",
    "    print(f\"you are welcome {name}\")"
   ]
  },
  {
   "cell_type": "code",
   "execution_count": 98,
   "id": "f8f5a2fd",
   "metadata": {},
   "outputs": [
    {
     "name": "stdout",
     "output_type": "stream",
     "text": [
      "you are welcome nattar\n"
     ]
    }
   ],
   "source": [
    "greet(\"nattar\")"
   ]
  },
  {
   "cell_type": "code",
   "execution_count": 99,
   "id": "61bba1db",
   "metadata": {},
   "outputs": [
    {
     "ename": "TypeError",
     "evalue": "greet() got some positional-only arguments passed as keyword arguments: 'name'",
     "output_type": "error",
     "traceback": [
      "\u001b[1;31m---------------------------------------------------------------------------\u001b[0m",
      "\u001b[1;31mTypeError\u001b[0m                                 Traceback (most recent call last)",
      "Cell \u001b[1;32mIn[99], line 1\u001b[0m\n\u001b[1;32m----> 1\u001b[0m greet(name \u001b[38;5;241m=\u001b[39m \u001b[38;5;124m\"\u001b[39m\u001b[38;5;124mnattar\u001b[39m\u001b[38;5;124m\"\u001b[39m)\n",
      "\u001b[1;31mTypeError\u001b[0m: greet() got some positional-only arguments passed as keyword arguments: 'name'"
     ]
    }
   ],
   "source": [
    "greet(name = \"nattar\")"
   ]
  },
  {
   "cell_type": "code",
   "execution_count": 100,
   "id": "0fd92094",
   "metadata": {},
   "outputs": [],
   "source": [
    "def bio(name,*,age):\n",
    "    print(f\"{name},{age}\")"
   ]
  },
  {
   "cell_type": "code",
   "execution_count": 101,
   "id": "ce619940",
   "metadata": {},
   "outputs": [
    {
     "ename": "TypeError",
     "evalue": "bio() takes 1 positional argument but 2 were given",
     "output_type": "error",
     "traceback": [
      "\u001b[1;31m---------------------------------------------------------------------------\u001b[0m",
      "\u001b[1;31mTypeError\u001b[0m                                 Traceback (most recent call last)",
      "Cell \u001b[1;32mIn[101], line 1\u001b[0m\n\u001b[1;32m----> 1\u001b[0m bio(\u001b[38;5;124m\"\u001b[39m\u001b[38;5;124mnattar\u001b[39m\u001b[38;5;124m\"\u001b[39m,\u001b[38;5;241m25\u001b[39m)\n",
      "\u001b[1;31mTypeError\u001b[0m: bio() takes 1 positional argument but 2 were given"
     ]
    }
   ],
   "source": [
    "bio(\"nattar\",25)"
   ]
  },
  {
   "cell_type": "code",
   "execution_count": 102,
   "id": "b02f1836",
   "metadata": {},
   "outputs": [
    {
     "name": "stdout",
     "output_type": "stream",
     "text": [
      "nattar,25\n"
     ]
    }
   ],
   "source": [
    "bio(\"nattar\", age=25)"
   ]
  },
  {
   "cell_type": "code",
   "execution_count": 103,
   "id": "80b74ab6",
   "metadata": {},
   "outputs": [],
   "source": [
    "def greet():\n",
    "    print(\"welcome\")"
   ]
  },
  {
   "cell_type": "code",
   "execution_count": 104,
   "id": "c8ff1c6f",
   "metadata": {},
   "outputs": [],
   "source": [
    "def my_deco(func): #my_deco function with func as argument\n",
    "    def wrapper():\n",
    "        print(\"before\")\n",
    "        func()\n",
    "        print(\"after\")\n",
    "    return wrapper\n"
   ]
  },
  {
   "cell_type": "code",
   "execution_count": 105,
   "id": "209073c0",
   "metadata": {},
   "outputs": [],
   "source": [
    "@my_deco\n",
    "def greet():\n",
    "    print(\"welcome\")"
   ]
  },
  {
   "cell_type": "code",
   "execution_count": 106,
   "id": "5499a856",
   "metadata": {},
   "outputs": [
    {
     "name": "stdout",
     "output_type": "stream",
     "text": [
      "before\n",
      "welcome\n",
      "after\n"
     ]
    }
   ],
   "source": [
    "greet()"
   ]
  },
  {
   "cell_type": "code",
   "execution_count": null,
   "id": "7e73d809",
   "metadata": {},
   "outputs": [],
   "source": [
    "\n",
    "def print_list(l):\n",
    "    l1 = []\n",
    "    for i in l:\n",
    "        if i % 2 == 0:\n",
    "            l1.append(i)\n",
    "    return l1\n",
    "            "
   ]
  },
  {
   "cell_type": "code",
   "execution_count": 110,
   "id": "64b0f0b6",
   "metadata": {},
   "outputs": [
    {
     "data": {
      "text/plain": [
       "[2, 4]"
      ]
     },
     "execution_count": 110,
     "metadata": {},
     "output_type": "execute_result"
    }
   ],
   "source": [
    "print_list([1,2,3,4])"
   ]
  },
  {
   "cell_type": "code",
   "execution_count": 129,
   "id": "fed66805",
   "metadata": {},
   "outputs": [],
   "source": [
    "import time\n",
    "def timing(func):\n",
    "    def wrapper(*args, **kw):\n",
    "        start = time.time()\n",
    "        print(f\"starting time = {start}\")\n",
    "        result = func(*args, **kw)\n",
    "        end = time.time()\n",
    "        print(f\"ending time = {end}\")\n",
    "        print(f\"time taken = {end-start}\")\n",
    "    return wrapper"
   ]
  },
  {
   "cell_type": "code",
   "execution_count": 130,
   "id": "9bd454cc",
   "metadata": {},
   "outputs": [],
   "source": [
    "@timing\n",
    "def print_list(lst):\n",
    "    l1 = []\n",
    "    for i in lst:\n",
    "        if i % 2 == 0:\n",
    "            l1.append(i)\n",
    "    return l1\n",
    "\n"
   ]
  },
  {
   "cell_type": "code",
   "execution_count": 131,
   "id": "dcc4b0da",
   "metadata": {},
   "outputs": [
    {
     "name": "stdout",
     "output_type": "stream",
     "text": [
      "starting time = 1753766850.9262676\n",
      "ending time = 1753766850.9277751\n",
      "time taken = 0.0015075206756591797\n"
     ]
    }
   ],
   "source": [
    "print_list([15,46,45,78,654,878,5,22222,5464,878,46464,87878,45454])"
   ]
  },
  {
   "cell_type": "code",
   "execution_count": 141,
   "id": "6a1f9969",
   "metadata": {},
   "outputs": [],
   "source": [
    "class parent:\n",
    "    pass\n",
    "\n",
    "class child:\n",
    "    def greet(self):\n",
    "        print(\"hello\")"
   ]
  },
  {
   "cell_type": "code",
   "execution_count": 144,
   "id": "ab67398f",
   "metadata": {},
   "outputs": [
    {
     "name": "stdout",
     "output_type": "stream",
     "text": [
      "hello\n"
     ]
    }
   ],
   "source": [
    "c = child()\n",
    "c.greet()"
   ]
  },
  {
   "cell_type": "code",
   "execution_count": 145,
   "id": "2bc427d5",
   "metadata": {},
   "outputs": [
    {
     "name": "stdout",
     "output_type": "stream",
     "text": [
      "hello\n"
     ]
    }
   ],
   "source": [
    "c1 = child()\n",
    "c1.greet()"
   ]
  },
  {
   "cell_type": "code",
   "execution_count": 140,
   "id": "e67bb66b",
   "metadata": {},
   "outputs": [
    {
     "ename": "TypeError",
     "evalue": "'child' object is not callable",
     "output_type": "error",
     "traceback": [
      "\u001b[1;31m---------------------------------------------------------------------------\u001b[0m",
      "\u001b[1;31mTypeError\u001b[0m                                 Traceback (most recent call last)",
      "Cell \u001b[1;32mIn[140], line 1\u001b[0m\n\u001b[1;32m----> 1\u001b[0m c()\n",
      "\u001b[1;31mTypeError\u001b[0m: 'child' object is not callable"
     ]
    }
   ],
   "source": [
    "c()"
   ]
  },
  {
   "cell_type": "code",
   "execution_count": 138,
   "id": "ac4691b0",
   "metadata": {},
   "outputs": [
    {
     "ename": "TypeError",
     "evalue": "child.greet() takes 0 positional arguments but 1 was given",
     "output_type": "error",
     "traceback": [
      "\u001b[1;31m---------------------------------------------------------------------------\u001b[0m",
      "\u001b[1;31mTypeError\u001b[0m                                 Traceback (most recent call last)",
      "Cell \u001b[1;32mIn[138], line 1\u001b[0m\n\u001b[1;32m----> 1\u001b[0m c\u001b[38;5;241m.\u001b[39mgreet()\n",
      "\u001b[1;31mTypeError\u001b[0m: child.greet() takes 0 positional arguments but 1 was given"
     ]
    }
   ],
   "source": [
    "c.greet()"
   ]
  },
  {
   "cell_type": "code",
   "execution_count": 139,
   "id": "c43cfe7d",
   "metadata": {},
   "outputs": [
    {
     "ename": "TypeError",
     "evalue": "'child' object is not callable",
     "output_type": "error",
     "traceback": [
      "\u001b[1;31m---------------------------------------------------------------------------\u001b[0m",
      "\u001b[1;31mTypeError\u001b[0m                                 Traceback (most recent call last)",
      "Cell \u001b[1;32mIn[139], line 1\u001b[0m\n\u001b[1;32m----> 1\u001b[0m c()\n",
      "\u001b[1;31mTypeError\u001b[0m: 'child' object is not callable"
     ]
    }
   ],
   "source": [
    "c()"
   ]
  },
  {
   "cell_type": "code",
   "execution_count": 152,
   "id": "8acdf9ad",
   "metadata": {},
   "outputs": [],
   "source": [
    "class parent:\n",
    "    def __init__(self, name, age):\n",
    "        ## if you want to pass a data while calling object\n",
    "        ## __init__ can be used\n",
    "        self.name1 = name\n",
    "        self.age1 = age\n",
    "\n",
    "    def greet(self):\n",
    "        print(f\"hello {self.name1}, you are {self.age1} years old\")"
   ]
  },
  {
   "cell_type": "code",
   "execution_count": 153,
   "id": "2022d126",
   "metadata": {},
   "outputs": [],
   "source": [
    "p = parent(\"nattar\",25)"
   ]
  },
  {
   "cell_type": "code",
   "execution_count": 154,
   "id": "9f5f9456",
   "metadata": {},
   "outputs": [
    {
     "name": "stdout",
     "output_type": "stream",
     "text": [
      "hello nattar, you are 25 years old\n"
     ]
    }
   ],
   "source": [
    "p.greet()"
   ]
  },
  {
   "cell_type": "code",
   "execution_count": 13,
   "id": "1fcd92d4",
   "metadata": {},
   "outputs": [],
   "source": [
    "class course:\n",
    "    def __init__(self, title, mentor):\n",
    "        self.title = title\n",
    "        self.mentor = mentor\n",
    "\n",
    "    def __str__(self):\n",
    "        return f\"course: {self.title}, mentor: {self.mentor}\"\n",
    "    \n",
    "    def __eq__(self, value):\n",
    "        return self.title == value.title\n",
    "\n",
    "    def __len__(self):\n",
    "        return self.title\n",
    "    \n",
    "    def __del__(self):\n",
    "        print(\"delete\")\n",
    "\n",
    "    def __call__(self, *args, **kwds):\n",
    "        return f\"{self.title}, {self.mentor}\""
   ]
  },
  {
   "cell_type": "code",
   "execution_count": 14,
   "id": "b4f0fa8d",
   "metadata": {},
   "outputs": [
    {
     "name": "stdout",
     "output_type": "stream",
     "text": [
      "course: python, mentor: nat\n"
     ]
    }
   ],
   "source": [
    "c = course(\"python\",\"nat\")\n",
    "print(c)"
   ]
  },
  {
   "cell_type": "code",
   "execution_count": 16,
   "id": "ab1df2bf",
   "metadata": {},
   "outputs": [
    {
     "data": {
      "text/plain": [
       "'python, nat'"
      ]
     },
     "execution_count": 16,
     "metadata": {},
     "output_type": "execute_result"
    }
   ],
   "source": [
    "c()"
   ]
  },
  {
   "cell_type": "code",
   "execution_count": 62,
   "id": "b9a010aa",
   "metadata": {},
   "outputs": [],
   "source": [
    "class subject:\n",
    "    def show(self):\n",
    "        print(\"hello\")"
   ]
  },
  {
   "cell_type": "code",
   "execution_count": 67,
   "id": "bc7eb1df",
   "metadata": {},
   "outputs": [],
   "source": [
    "class child(subject):\n",
    "    def show(self):\n",
    "        super().show()\n",
    "        print(\"welcome\")"
   ]
  },
  {
   "cell_type": "code",
   "execution_count": 68,
   "id": "b1e9c41e",
   "metadata": {},
   "outputs": [],
   "source": [
    "c = child()"
   ]
  },
  {
   "cell_type": "code",
   "execution_count": 69,
   "id": "15960e30",
   "metadata": {},
   "outputs": [
    {
     "name": "stdout",
     "output_type": "stream",
     "text": [
      "hello\n",
      "welcome\n"
     ]
    }
   ],
   "source": [
    "c.show()"
   ]
  },
  {
   "cell_type": "code",
   "execution_count": 92,
   "id": "131c7a12",
   "metadata": {},
   "outputs": [],
   "source": [
    "class mentor:\n",
    "    def __init__(self, name):\n",
    "        self.name = name\n",
    "        print(f\"{self.name}\")"
   ]
  },
  {
   "cell_type": "code",
   "execution_count": 93,
   "id": "84498791",
   "metadata": {},
   "outputs": [],
   "source": [
    "class course(mentor):\n",
    "    def __init__(self, name,subject):\n",
    "        super().__init__(name = name)\n",
    "        self.subject = subject\n",
    "        print(f\"{self.name}, {self.subject}\")"
   ]
  },
  {
   "cell_type": "code",
   "execution_count": 94,
   "id": "7e21ae1e",
   "metadata": {},
   "outputs": [
    {
     "name": "stdout",
     "output_type": "stream",
     "text": [
      "nat\n",
      "nat, python\n"
     ]
    }
   ],
   "source": [
    "c = course(\"nat\", \"python\")"
   ]
  },
  {
   "cell_type": "code",
   "execution_count": 96,
   "id": "e253cae6",
   "metadata": {},
   "outputs": [],
   "source": [
    "class platform:\n",
    "    def show(self):\n",
    "        print(\"platform class\")\n",
    "\n",
    "class course(platform):\n",
    "    def displayCourse(self):\n",
    "        print(\"course\")\n",
    "\n",
    "class duration(course):\n",
    "    def print(self):\n",
    "        print(\"duration\")"
   ]
  },
  {
   "cell_type": "code",
   "execution_count": 97,
   "id": "bc610889",
   "metadata": {},
   "outputs": [
    {
     "name": "stdout",
     "output_type": "stream",
     "text": [
      "duration\n"
     ]
    }
   ],
   "source": [
    "d = duration()\n",
    "d.print()"
   ]
  },
  {
   "cell_type": "code",
   "execution_count": 99,
   "id": "7d8d0a54",
   "metadata": {},
   "outputs": [],
   "source": [
    "class A:\n",
    "    def a(self):\n",
    "        print(\"a\")\n",
    "\n",
    "\n",
    "class B:\n",
    "    def b(self):\n",
    "        print(\"b\")\n",
    "\n",
    "class C(A,B):\n",
    "    pass"
   ]
  },
  {
   "cell_type": "code",
   "execution_count": 100,
   "id": "9c99142a",
   "metadata": {},
   "outputs": [],
   "source": [
    "c = C()\n"
   ]
  },
  {
   "cell_type": "code",
   "execution_count": null,
   "id": "24f54e9a",
   "metadata": {},
   "outputs": [
    {
     "data": {
      "text/plain": [
       "[__main__.C, __main__.A, __main__.B, object]"
      ]
     },
     "execution_count": 103,
     "metadata": {},
     "output_type": "execute_result"
    }
   ],
   "source": [
    "C.mro()"
   ]
  },
  {
   "cell_type": "code",
   "execution_count": 119,
   "id": "dd914c02",
   "metadata": {},
   "outputs": [],
   "source": [
    "class animal:\n",
    "    dogCount = 0\n",
    "\n",
    "    def __init__(self, name):\n",
    "        self.name = name\n",
    "        animal.dogCount = animal.dogCount + 1\n",
    "\n",
    "    @classmethod\n",
    "    def Total(n):\n",
    "        return n.dogCount"
   ]
  },
  {
   "cell_type": "code",
   "execution_count": 121,
   "id": "b04176be",
   "metadata": {},
   "outputs": [],
   "source": [
    "m = animal(\"pug\") ## object or an instance"
   ]
  },
  {
   "cell_type": "code",
   "execution_count": 122,
   "id": "98bb703a",
   "metadata": {},
   "outputs": [
    {
     "data": {
      "text/plain": [
       "1"
      ]
     },
     "execution_count": 122,
     "metadata": {},
     "output_type": "execute_result"
    }
   ],
   "source": [
    "m.Total()"
   ]
  },
  {
   "cell_type": "code",
   "execution_count": 125,
   "id": "07d3ec5e",
   "metadata": {},
   "outputs": [],
   "source": [
    "m1 = animal(\"lab\")"
   ]
  },
  {
   "cell_type": "code",
   "execution_count": 126,
   "id": "64588232",
   "metadata": {},
   "outputs": [
    {
     "data": {
      "text/plain": [
       "2"
      ]
     },
     "execution_count": 126,
     "metadata": {},
     "output_type": "execute_result"
    }
   ],
   "source": [
    "m1.Total()"
   ]
  },
  {
   "cell_type": "code",
   "execution_count": 128,
   "id": "4cbb5edf",
   "metadata": {},
   "outputs": [],
   "source": [
    "class students:\n",
    "    @staticmethod\n",
    "    def validEmail(email):\n",
    "        return \"@\" in email and \".\" in email"
   ]
  },
  {
   "cell_type": "code",
   "execution_count": 129,
   "id": "8093d008",
   "metadata": {},
   "outputs": [
    {
     "data": {
      "text/plain": [
       "True"
      ]
     },
     "execution_count": 129,
     "metadata": {},
     "output_type": "execute_result"
    }
   ],
   "source": [
    "students.validEmail(\"nat@gmail.com\")"
   ]
  },
  {
   "cell_type": "code",
   "execution_count": 145,
   "id": "0e0734c4",
   "metadata": {},
   "outputs": [],
   "source": [
    "class animals:\n",
    "    def __init__(self, name):\n",
    "        self.__name = name\n",
    "\n",
    "    def getname(self):\n",
    "        return self.__name"
   ]
  },
  {
   "cell_type": "code",
   "execution_count": 147,
   "id": "7078cda2",
   "metadata": {},
   "outputs": [
    {
     "data": {
      "text/plain": [
       "'dog'"
      ]
     },
     "execution_count": 147,
     "metadata": {},
     "output_type": "execute_result"
    }
   ],
   "source": [
    "a = animals(\"dog\")\n",
    "a.getname()"
   ]
  },
  {
   "cell_type": "code",
   "execution_count": 144,
   "id": "e3fc1230",
   "metadata": {},
   "outputs": [
    {
     "data": {
      "text/plain": [
       "'dog'"
      ]
     },
     "execution_count": 144,
     "metadata": {},
     "output_type": "execute_result"
    }
   ],
   "source": [
    "a._animals__name"
   ]
  },
  {
   "cell_type": "code",
   "execution_count": 148,
   "id": "31d8635d",
   "metadata": {},
   "outputs": [],
   "source": [
    "from abc import ABC, abstractmethod"
   ]
  },
  {
   "cell_type": "code",
   "execution_count": 165,
   "id": "638934ac",
   "metadata": {},
   "outputs": [],
   "source": [
    "class animals(ABC):\n",
    "\n",
    "    @abstractmethod\n",
    "    def dog(self):\n",
    "        pass\n",
    "    @abstractmethod\n",
    "    def cat(self):\n",
    "        pass"
   ]
  },
  {
   "cell_type": "code",
   "execution_count": 168,
   "id": "e6f88075",
   "metadata": {},
   "outputs": [],
   "source": [
    "class pets(animals):\n",
    "    def dog(self):\n",
    "        return \"dogs\"\n",
    "    \n",
    "    def cat(self):\n",
    "        return \"cats\""
   ]
  },
  {
   "cell_type": "code",
   "execution_count": 169,
   "id": "37df086a",
   "metadata": {},
   "outputs": [
    {
     "data": {
      "text/plain": [
       "'dogs'"
      ]
     },
     "execution_count": 169,
     "metadata": {},
     "output_type": "execute_result"
    }
   ],
   "source": [
    "d = pets()\n",
    "d.dog()"
   ]
  },
  {
   "cell_type": "code",
   "execution_count": 170,
   "id": "3c75dc27",
   "metadata": {},
   "outputs": [
    {
     "data": {
      "text/plain": [
       "'cats'"
      ]
     },
     "execution_count": 170,
     "metadata": {},
     "output_type": "execute_result"
    }
   ],
   "source": [
    "d.cat()"
   ]
  },
  {
   "cell_type": "code",
   "execution_count": 172,
   "id": "4a8c3e3b",
   "metadata": {},
   "outputs": [],
   "source": [
    "class vehicles:\n",
    "    def __init__(self, model):\n",
    "        self.model = model\n",
    "    \n",
    "    def __len__(self):\n",
    "        return len(self.model)"
   ]
  },
  {
   "cell_type": "code",
   "execution_count": 179,
   "id": "590dc163",
   "metadata": {},
   "outputs": [
    {
     "data": {
      "text/plain": [
       "'honda'"
      ]
     },
     "execution_count": 179,
     "metadata": {},
     "output_type": "execute_result"
    }
   ],
   "source": [
    "v = vehicles(\"honda\")\n",
    "v.model"
   ]
  },
  {
   "cell_type": "code",
   "execution_count": 180,
   "id": "894b80de",
   "metadata": {},
   "outputs": [
    {
     "data": {
      "text/plain": [
       "5"
      ]
     },
     "execution_count": 180,
     "metadata": {},
     "output_type": "execute_result"
    }
   ],
   "source": [
    "len(v)"
   ]
  },
  {
   "cell_type": "code",
   "execution_count": 176,
   "id": "07ff1588",
   "metadata": {},
   "outputs": [
    {
     "data": {
      "text/plain": [
       "[1, 2, 3]"
      ]
     },
     "execution_count": 176,
     "metadata": {},
     "output_type": "execute_result"
    }
   ],
   "source": [
    "v1 = vehicles([1,2,3])\n",
    "v1.model"
   ]
  },
  {
   "cell_type": "code",
   "execution_count": 177,
   "id": "4d377225",
   "metadata": {},
   "outputs": [
    {
     "data": {
      "text/plain": [
       "3"
      ]
     },
     "execution_count": 177,
     "metadata": {},
     "output_type": "execute_result"
    }
   ],
   "source": [
    "len(v1)"
   ]
  },
  {
   "cell_type": "code",
   "execution_count": 181,
   "id": "bf5d1f02",
   "metadata": {},
   "outputs": [
    {
     "ename": "TypeError",
     "evalue": "open() missing 1 required positional argument: 'file'",
     "output_type": "error",
     "traceback": [
      "\u001b[1;31m---------------------------------------------------------------------------\u001b[0m",
      "\u001b[1;31mTypeError\u001b[0m                                 Traceback (most recent call last)",
      "Cell \u001b[1;32mIn[181], line 1\u001b[0m\n\u001b[1;32m----> 1\u001b[0m \u001b[38;5;28mopen\u001b[39m()\n",
      "\u001b[1;31mTypeError\u001b[0m: open() missing 1 required positional argument: 'file'"
     ]
    }
   ],
   "source": [
    "open()"
   ]
  },
  {
   "cell_type": "code",
   "execution_count": 182,
   "id": "6b0f44b7",
   "metadata": {},
   "outputs": [],
   "source": [
    "f = open(\"test.txt\",'w')"
   ]
  },
  {
   "cell_type": "code",
   "execution_count": 183,
   "id": "a6cdeb63",
   "metadata": {},
   "outputs": [
    {
     "data": {
      "text/plain": [
       "11"
      ]
     },
     "execution_count": 183,
     "metadata": {},
     "output_type": "execute_result"
    }
   ],
   "source": [
    "f.write(\"hello there\")"
   ]
  },
  {
   "cell_type": "code",
   "execution_count": 184,
   "id": "b0d9faae",
   "metadata": {},
   "outputs": [],
   "source": [
    "f.close()"
   ]
  },
  {
   "cell_type": "code",
   "execution_count": 1,
   "id": "4df55136",
   "metadata": {},
   "outputs": [],
   "source": [
    "from PIL import Image"
   ]
  },
  {
   "cell_type": "code",
   "execution_count": 3,
   "id": "a5d916f8",
   "metadata": {},
   "outputs": [],
   "source": [
    "img = Image.open(\"image.png\")"
   ]
  },
  {
   "cell_type": "code",
   "execution_count": 15,
   "id": "b9d7547a",
   "metadata": {},
   "outputs": [],
   "source": [
    "i = np.array(img)"
   ]
  },
  {
   "cell_type": "code",
   "execution_count": 5,
   "id": "2dfa4934",
   "metadata": {},
   "outputs": [],
   "source": [
    "import numpy as np"
   ]
  },
  {
   "cell_type": "code",
   "execution_count": 16,
   "id": "c391099c",
   "metadata": {},
   "outputs": [
    {
     "data": {
      "text/plain": [
       "8294400"
      ]
     },
     "execution_count": 16,
     "metadata": {},
     "output_type": "execute_result"
    }
   ],
   "source": [
    "i.size"
   ]
  },
  {
   "cell_type": "code",
   "execution_count": 17,
   "id": "cf2ebc20",
   "metadata": {},
   "outputs": [
    {
     "data": {
      "text/plain": [
       "3"
      ]
     },
     "execution_count": 17,
     "metadata": {},
     "output_type": "execute_result"
    }
   ],
   "source": [
    "i.ndim"
   ]
  },
  {
   "cell_type": "code",
   "execution_count": 18,
   "id": "384cd4ed",
   "metadata": {},
   "outputs": [
    {
     "data": {
      "text/plain": [
       "(1080, 1920, 4)"
      ]
     },
     "execution_count": 18,
     "metadata": {},
     "output_type": "execute_result"
    }
   ],
   "source": [
    "i.shape"
   ]
  },
  {
   "cell_type": "code",
   "execution_count": 35,
   "id": "07b1cdf4",
   "metadata": {},
   "outputs": [
    {
     "data": {
      "text/plain": [
       "array([[[2, 2, 2, 2],\n",
       "        [2, 2, 2, 2],\n",
       "        [2, 2, 2, 2],\n",
       "        ...,\n",
       "        [2, 2, 2, 2],\n",
       "        [2, 2, 2, 2],\n",
       "        [2, 2, 2, 2]],\n",
       "\n",
       "       [[2, 2, 2, 2],\n",
       "        [2, 2, 2, 2],\n",
       "        [2, 2, 2, 2],\n",
       "        ...,\n",
       "        [2, 2, 2, 2],\n",
       "        [2, 2, 2, 2],\n",
       "        [2, 2, 2, 2]],\n",
       "\n",
       "       [[2, 2, 2, 2],\n",
       "        [2, 2, 2, 2],\n",
       "        [2, 2, 2, 2],\n",
       "        ...,\n",
       "        [2, 2, 2, 2],\n",
       "        [2, 2, 2, 2],\n",
       "        [2, 2, 2, 2]],\n",
       "\n",
       "       ...,\n",
       "\n",
       "       [[2, 2, 2, 2],\n",
       "        [2, 2, 2, 2],\n",
       "        [2, 2, 2, 2],\n",
       "        ...,\n",
       "        [2, 2, 2, 2],\n",
       "        [2, 2, 2, 2],\n",
       "        [2, 2, 2, 2]],\n",
       "\n",
       "       [[2, 2, 2, 2],\n",
       "        [2, 2, 2, 2],\n",
       "        [2, 2, 2, 2],\n",
       "        ...,\n",
       "        [2, 2, 2, 2],\n",
       "        [2, 2, 2, 2],\n",
       "        [2, 2, 2, 2]],\n",
       "\n",
       "       [[2, 2, 2, 2],\n",
       "        [2, 2, 2, 2],\n",
       "        [2, 2, 2, 2],\n",
       "        ...,\n",
       "        [2, 2, 2, 2],\n",
       "        [2, 2, 2, 2],\n",
       "        [2, 2, 2, 2]]])"
      ]
     },
     "execution_count": 35,
     "metadata": {},
     "output_type": "execute_result"
    }
   ],
   "source": [
    "changes = np.random.randint(2,3, (1080, 1920, 4))\n",
    "changes"
   ]
  },
  {
   "cell_type": "code",
   "execution_count": 36,
   "id": "e398b058",
   "metadata": {},
   "outputs": [
    {
     "data": {
      "text/plain": [
       "(1080, 1920, 4)"
      ]
     },
     "execution_count": 36,
     "metadata": {},
     "output_type": "execute_result"
    }
   ],
   "source": [
    "changes.shape"
   ]
  },
  {
   "cell_type": "code",
   "execution_count": 39,
   "id": "b2ca8f32",
   "metadata": {},
   "outputs": [],
   "source": [
    "after = img + changes\n",
    "afterN = (after*255).astype(np.uint8)"
   ]
  },
  {
   "cell_type": "code",
   "execution_count": 40,
   "id": "7fb7aa35",
   "metadata": {},
   "outputs": [
    {
     "data": {
      "image/png": "[encoded data removed]",
      "text/plain": [
       "<PIL.Image.Image image mode=RGBA size=1920x1080>"
      ]
     },
     "execution_count": 40,
     "metadata": {},
     "output_type": "execute_result"
    }
   ],
   "source": [
    "Image.fromarray(afterN)"
   ]
  },
  {
   "cell_type": "code",
   "execution_count": 2,
   "id": "161cae6e",
   "metadata": {},
   "outputs": [],
   "source": [
    "import numpy as np\n",
    "import pandas as pd"
   ]
  },
  {
   "cell_type": "code",
   "execution_count": 5,
   "id": "855217af",
   "metadata": {},
   "outputs": [],
   "source": [
    "x = 2 #scalar value"
   ]
  },
  {
   "cell_type": "code",
   "execution_count": 12,
   "id": "a962d64a",
   "metadata": {},
   "outputs": [],
   "source": [
    "a = np.array([1,2,-6])"
   ]
  },
  {
   "cell_type": "code",
   "execution_count": 13,
   "id": "ae0f865b",
   "metadata": {},
   "outputs": [],
   "source": [
    "b = np.array([6,7,-1])"
   ]
  },
  {
   "cell_type": "code",
   "execution_count": 14,
   "id": "efb8ca9a",
   "metadata": {},
   "outputs": [
    {
     "data": {
      "text/plain": [
       "array([ 6, 14,  6])"
      ]
     },
     "execution_count": 14,
     "metadata": {},
     "output_type": "execute_result"
    }
   ],
   "source": [
    "a*b"
   ]
  },
  {
   "cell_type": "code",
   "execution_count": 15,
   "id": "1a04eba6",
   "metadata": {},
   "outputs": [
    {
     "data": {
      "text/plain": [
       "26"
      ]
     },
     "execution_count": 15,
     "metadata": {},
     "output_type": "execute_result"
    }
   ],
   "source": [
    "np.dot(a,b)"
   ]
  },
  {
   "cell_type": "code",
   "execution_count": 16,
   "id": "72abfa6e",
   "metadata": {},
   "outputs": [
    {
     "data": {
      "text/plain": [
       "array([ 40, -35,  -5])"
      ]
     },
     "execution_count": 16,
     "metadata": {},
     "output_type": "execute_result"
    }
   ],
   "source": [
    "np.cross(a,b)"
   ]
  },
  {
   "cell_type": "code",
   "execution_count": 20,
   "id": "2b9faa0a",
   "metadata": {},
   "outputs": [],
   "source": [
    "a = np.array([[1,2], [3,4]])"
   ]
  },
  {
   "cell_type": "code",
   "execution_count": null,
   "id": "9f29a5d9",
   "metadata": {},
   "outputs": [
    {
     "data": {
      "text/plain": [
       "-2.0000000000000004"
      ]
     },
     "execution_count": 21,
     "metadata": {},
     "output_type": "execute_result"
    }
   ],
   "source": [
    "np.linalg.det(a) #determinant"
   ]
  },
  {
   "cell_type": "code",
   "execution_count": null,
   "id": "955f51ed",
   "metadata": {},
   "outputs": [
    {
     "data": {
      "text/plain": [
       "array([[-2. ,  1. ],\n",
       "       [ 1.5, -0.5]])"
      ]
     },
     "execution_count": 22,
     "metadata": {},
     "output_type": "execute_result"
    }
   ],
   "source": [
    "np.linalg.inv(a) #inverse"
   ]
  },
  {
   "cell_type": "code",
   "execution_count": 23,
   "id": "07dbc216",
   "metadata": {},
   "outputs": [
    {
     "data": {
      "text/plain": [
       "EigResult(eigenvalues=array([-0.37228132,  5.37228132]), eigenvectors=array([[-0.82456484, -0.41597356],\n",
       "       [ 0.56576746, -0.90937671]]))"
      ]
     },
     "execution_count": 23,
     "metadata": {},
     "output_type": "execute_result"
    }
   ],
   "source": [
    "np.linalg.eig(a)"
   ]
  },
  {
   "cell_type": "code",
   "execution_count": 24,
   "id": "12190d87",
   "metadata": {},
   "outputs": [
    {
     "data": {
      "text/plain": [
       "2"
      ]
     },
     "execution_count": 24,
     "metadata": {},
     "output_type": "execute_result"
    }
   ],
   "source": [
    "np.linalg.matrix_rank(a)"
   ]
  },
  {
   "cell_type": "code",
   "execution_count": 1,
   "id": "649c85bf",
   "metadata": {},
   "outputs": [],
   "source": [
    "import cv2"
   ]
  },
  {
   "cell_type": "code",
   "execution_count": 3,
   "id": "a3dd6a53",
   "metadata": {},
   "outputs": [
    {
     "data": {
      "text/plain": [
       "array([[[208, 153, 168],\n",
       "        [208, 153, 168],\n",
       "        [208, 153, 168],\n",
       "        ...,\n",
       "        [195, 154, 212],\n",
       "        [195, 154, 212],\n",
       "        [196, 153, 216]],\n",
       "\n",
       "       [[208, 153, 168],\n",
       "        [208, 153, 168],\n",
       "        [208, 153, 168],\n",
       "        ...,\n",
       "        [195, 154, 212],\n",
       "        [195, 154, 212],\n",
       "        [197, 154, 217]],\n",
       "\n",
       "       [[208, 154, 167],\n",
       "        [208, 154, 167],\n",
       "        [208, 154, 167],\n",
       "        ...,\n",
       "        [196, 155, 213],\n",
       "        [196, 155, 213],\n",
       "        [197, 154, 217]],\n",
       "\n",
       "       ...,\n",
       "\n",
       "       [[144,  99, 148],\n",
       "        [144,  99, 148],\n",
       "        [144,  99, 148],\n",
       "        ...,\n",
       "        [137, 141, 230],\n",
       "        [137, 141, 230],\n",
       "        [133, 136, 227]],\n",
       "\n",
       "       [[145, 100, 149],\n",
       "        [145, 100, 149],\n",
       "        [145, 100, 149],\n",
       "        ...,\n",
       "        [137, 141, 230],\n",
       "        [137, 141, 230],\n",
       "        [133, 136, 227]],\n",
       "\n",
       "       [[145, 100, 149],\n",
       "        [145, 100, 149],\n",
       "        [145, 100, 149],\n",
       "        ...,\n",
       "        [136, 140, 229],\n",
       "        [136, 140, 229],\n",
       "        [131, 136, 227]]], shape=(165, 305, 3), dtype=uint8)"
      ]
     },
     "execution_count": 3,
     "metadata": {},
     "output_type": "execute_result"
    }
   ],
   "source": [
    "data = cv2.imread(\"images.jpeg\")\n",
    "data"
   ]
  },
  {
   "cell_type": "code",
   "execution_count": 4,
   "id": "815e2fbe",
   "metadata": {},
   "outputs": [
    {
     "data": {
      "text/plain": [
       "(165, 305, 3)"
      ]
     },
     "execution_count": 4,
     "metadata": {},
     "output_type": "execute_result"
    }
   ],
   "source": [
    "data.shape"
   ]
  },
  {
   "cell_type": "code",
   "execution_count": null,
   "id": "8c781574",
   "metadata": {},
   "outputs": [],
   "source": [
    "import seaborn as sns"
   ]
  },
  {
   "cell_type": "code",
   "execution_count": null,
   "id": "5e0cc1b9",
   "metadata": {},
   "outputs": [],
   "source": []
  }
 ],
 "metadata": {
  "kernelspec": {
   "display_name": "Python 3",
   "language": "python",
   "name": "python3"
  },
  "language_info": {
   "codemirror_mode": {
    "name": "ipython",
    "version": 3
   },
   "file_extension": ".py",
   "mimetype": "text/x-python",
   "name": "python",
   "nbconvert_exporter": "python",
   "pygments_lexer": "ipython3",
   "version": "3.13.5"
  }
 },
 "nbformat": 4,
 "nbformat_minor": 5
}
