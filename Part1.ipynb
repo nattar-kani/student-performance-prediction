{
 "cells": [
  {
   "cell_type": "markdown",
   "id": "9def82a3",
   "metadata": {},
   "source": [
    "1.1. Memory exploration"
   ]
  },
  {
   "cell_type": "markdown",
   "id": "8410c25a",
   "metadata": {},
   "source": [
    "Variables of different types"
   ]
  },
  {
   "cell_type": "code",
   "execution_count": null,
   "id": "646c54d8",
   "metadata": {},
   "outputs": [],
   "source": [
    "i = 10 # int\n",
    "f = 0.5 # float\n",
    "s = \"hello\" # string\n",
    "lst = [1,2,3] # list\n",
    "tup = (1,2,3) # tuple"
   ]
  },
  {
   "cell_type": "code",
   "execution_count": null,
   "id": "f9a0e7d7",
   "metadata": {},
   "outputs": [],
   "source": [
    "id(i)"
   ]
  },
  {
   "cell_type": "code",
   "execution_count": null,
   "id": "649c7847",
   "metadata": {},
   "outputs": [],
   "source": [
    "print(id(f))"
   ]
  },
  {
   "cell_type": "code",
   "execution_count": null,
   "id": "19b37f07",
   "metadata": {},
   "outputs": [],
   "source": []
  }
 ],
 "metadata": {
  "kernelspec": {
   "display_name": "Python 3",
   "language": "python",
   "name": "python3"
  },
  "language_info": {
   "name": "python",
   "version": "3.13.5"
  }
 },
 "nbformat": 4,
 "nbformat_minor": 5
}
